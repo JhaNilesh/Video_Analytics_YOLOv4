{
 "cells": [
  {
   "cell_type": "code",
   "execution_count": null,
   "metadata": {},
   "outputs": [],
   "source": [
    "def testgendata(mddf, andf):\n",
    "\n",
    "#     imgHt   =   1080\n",
    "#     imgWd   =   1920\n",
    "#     imglist = []\n",
    "\n",
    "    for index, row in mddf.iterrows():\n",
    "        print('Processing file ({}): {}'.format(index + 1, row['video_name']))\n",
    "        vidcap = cv2.VideoCapture(row['video_path'])\n",
    "\n",
    "        frame_count = 0\n",
    "\n",
    "        while(vidcap.isOpened()):\n",
    "            res, frame = vidcap.read()\n",
    "            if res == True:\n",
    "                vidfile = os.path.join(tgtfld, row['video_name'].split('.')[0] + '_{}.jpg'.format(frame_count))\n",
    "                cv2.imwrite(vidfile, frame)\n",
    "                # print('Image File: {}'.format(vidfile))\n",
    "                annotfile = os.path.join(tgtfld, row['video_name'].split('.')[0] + '_{}.txt'.format(frame_count))\n",
    "                framedf = andf[(andf['video_name'] == row['video_name']) & (andf['frame_num'] == frame_count)].copy()\n",
    "                # Convert left top coordinates to centre coordinates\n",
    "                framedf['bb_lt_x'] = framedf['bb_lt_x'] + framedf['bb_width'] / 2\n",
    "                framedf['bb_lt_y'] = framedf['bb_lt_y'] + framedf['bb_height'] / 2\n",
    "                # Normalize the coordinates\n",
    "                framedf['bb_lt_x']   =   framedf['bb_lt_x']   / imgWd\n",
    "                framedf['bb_lt_y']   =   framedf['bb_lt_y']   / imgHt\n",
    "                framedf['bb_width']  =   framedf['bb_width']  / imgWd\n",
    "                framedf['bb_height'] =   framedf['bb_height'] / imgHt\n",
    "                file = open(annotfile, mode='w+')\n",
    "                # file.write(framedf.to_string(header=False, index=False))    # this option is generating extra spaces\n",
    "                file.writelines('{} {} {} {} {}\\n'.format(0, line[2], line[3], line[4], line[5]) for line in framedf.values)\n",
    "                file.close()\n",
    "                # print('Image File: {}'.format(annotfile))\n",
    "                imglist.append(vidfile)\n",
    "\n",
    "                frame_count += 1\n",
    "\n",
    "                if cv2.waitKey(1) & 0xFF == ord('q'):\n",
    "                    break\n",
    "\n",
    "            else:\n",
    "                break\n",
    "\n",
    "        print('No. of images written for this video is {}'.format(frame_count))\n",
    "        vidcap.release()\n",
    "\n",
    "    imgpath = os.path.join(tgtfld + '/image_path.txt')\n",
    "    file = open(imgpath, mode='w+')\n",
    "    file.writelines('{}\\n'.format(line) for line in imglist)\n",
    "    file.close()\n",
    "    print('Image Path is written in the file {}'.format(imgpath))"
   ]
  }
 ],
 "metadata": {
  "kernelspec": {
   "display_name": "Python 3",
   "language": "python",
   "name": "python3"
  },
  "language_info": {
   "codemirror_mode": {
    "name": "ipython",
    "version": 3
   },
   "file_extension": ".py",
   "mimetype": "text/x-python",
   "name": "python",
   "nbconvert_exporter": "python",
   "pygments_lexer": "ipython3",
   "version": "3.8.3"
  }
 },
 "nbformat": 4,
 "nbformat_minor": 4
}
